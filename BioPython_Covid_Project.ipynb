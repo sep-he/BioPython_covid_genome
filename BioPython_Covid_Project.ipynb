{
  "nbformat": 4,
  "nbformat_minor": 0,
  "metadata": {
    "colab": {
      "name": "BioPython Covid Project.ipynb",
      "provenance": [],
      "collapsed_sections": []
    },
    "kernelspec": {
      "name": "python3",
      "display_name": "Python 3"
    },
    "language_info": {
      "name": "python"
    }
  },
  "cells": [
    {
      "cell_type": "markdown",
      "source": [
        "Instal BioPython. Use functions to read/transcrible and translate DNA and RNA sequences.\n",
        "Analyse Sars-Cov2 virus genome\n",
        "Obtain complete genome from NBI GenBank"
      ],
      "metadata": {
        "id": "x5hDSukjxTLz"
      }
    },
    {
      "cell_type": "code",
      "execution_count": null,
      "metadata": {
        "colab": {
          "base_uri": "https://localhost:8080/"
        },
        "id": "FrffJY92If-9",
        "outputId": "0b743db1-2805-4a36-d446-37fed3efa3cf"
      },
      "outputs": [
        {
          "output_type": "stream",
          "name": "stdout",
          "text": [
            "Collecting biopython\n",
            "  Downloading biopython-1.79-cp37-cp37m-manylinux_2_5_x86_64.manylinux1_x86_64.whl (2.3 MB)\n",
            "\u001b[K     |████████████████████████████████| 2.3 MB 5.4 MB/s \n",
            "\u001b[?25hRequirement already satisfied: numpy in /usr/local/lib/python3.7/dist-packages (from biopython) (1.19.5)\n",
            "Installing collected packages: biopython\n",
            "Successfully installed biopython-1.79\n"
          ]
        }
      ],
      "source": [
        "!pip install biopython"
      ]
    },
    {
      "cell_type": "code",
      "source": [
        "import Bio"
      ],
      "metadata": {
        "id": "KsxJn4OgJPI5"
      },
      "execution_count": null,
      "outputs": []
    },
    {
      "cell_type": "code",
      "source": [
        "dir(Bio)"
      ],
      "metadata": {
        "colab": {
          "base_uri": "https://localhost:8080/"
        },
        "id": "luFh2YrALWio",
        "outputId": "1d4869c6-5c4c-4091-f346-ecd752cdaf46"
      },
      "execution_count": null,
      "outputs": [
        {
          "output_type": "execute_result",
          "data": {
            "text/plain": [
              "['BiopythonDeprecationWarning',\n",
              " 'BiopythonExperimentalWarning',\n",
              " 'BiopythonParserWarning',\n",
              " 'BiopythonWarning',\n",
              " 'MissingExternalDependencyError',\n",
              " 'MissingPythonDependencyError',\n",
              " 'StreamModeError',\n",
              " '__builtins__',\n",
              " '__cached__',\n",
              " '__doc__',\n",
              " '__file__',\n",
              " '__loader__',\n",
              " '__name__',\n",
              " '__package__',\n",
              " '__path__',\n",
              " '__spec__',\n",
              " '__version__',\n",
              " '_parent_dir',\n",
              " 'os',\n",
              " 'warnings']"
            ]
          },
          "metadata": {},
          "execution_count": 4
        }
      ]
    },
    {
      "cell_type": "code",
      "source": [
        "from Bio.Seq import Seq"
      ],
      "metadata": {
        "id": "rbfyWTPvLaJ0"
      },
      "execution_count": null,
      "outputs": []
    },
    {
      "cell_type": "code",
      "source": [
        "# create a sequence\n",
        "my_dna = Seq(\"ACGTTT\")"
      ],
      "metadata": {
        "id": "truE92EfMZJd"
      },
      "execution_count": null,
      "outputs": []
    },
    {
      "cell_type": "code",
      "source": [
        "my_dna"
      ],
      "metadata": {
        "colab": {
          "base_uri": "https://localhost:8080/"
        },
        "id": "hAP2Hn3ylPwu",
        "outputId": "3b0ad97e-d665-41a6-a0cb-5ac976bc5b79"
      },
      "execution_count": null,
      "outputs": [
        {
          "output_type": "execute_result",
          "data": {
            "text/plain": [
              "Seq('ACGTTT')"
            ]
          },
          "metadata": {},
          "execution_count": 17
        }
      ]
    },
    {
      "cell_type": "code",
      "source": [
        "type(my_dna)"
      ],
      "metadata": {
        "colab": {
          "base_uri": "https://localhost:8080/"
        },
        "id": "iHYH3WQ5lX8Z",
        "outputId": "544fa3c5-0147-4620-bddb-399d6ad8649b"
      },
      "execution_count": null,
      "outputs": [
        {
          "output_type": "execute_result",
          "data": {
            "text/plain": [
              "Bio.Seq.Seq"
            ]
          },
          "metadata": {},
          "execution_count": 18
        }
      ]
    },
    {
      "cell_type": "code",
      "source": [
        "my_dna[0:3]"
      ],
      "metadata": {
        "colab": {
          "base_uri": "https://localhost:8080/"
        },
        "id": "2JFcaTWOKfNW",
        "outputId": "d2e7ee9b-6c16-4123-b4ab-97996b552bc5"
      },
      "execution_count": null,
      "outputs": [
        {
          "output_type": "execute_result",
          "data": {
            "text/plain": [
              "Seq('ACG')"
            ]
          },
          "metadata": {},
          "execution_count": 19
        }
      ]
    },
    {
      "cell_type": "code",
      "source": [
        "seq2=Seq(\"ATGCGTACCAGT\")"
      ],
      "metadata": {
        "id": "8Uwi3tIQKqhu"
      },
      "execution_count": null,
      "outputs": []
    },
    {
      "cell_type": "code",
      "source": [
        "#join a portion of my_dna and the seq2\n",
        "new=my_dna[0:3]+seq2"
      ],
      "metadata": {
        "id": "9brQQGwOKzN9"
      },
      "execution_count": null,
      "outputs": []
    },
    {
      "cell_type": "code",
      "source": [
        "#find length of the sequence\n",
        "len(seq2)"
      ],
      "metadata": {
        "colab": {
          "base_uri": "https://localhost:8080/"
        },
        "id": "lKXvhholLAUq",
        "outputId": "909c8ce1-ab04-4fa3-d161-df41fa3d363f"
      },
      "execution_count": null,
      "outputs": [
        {
          "output_type": "execute_result",
          "data": {
            "text/plain": [
              "12"
            ]
          },
          "metadata": {},
          "execution_count": 22
        }
      ]
    },
    {
      "cell_type": "code",
      "source": [
        "len(new)"
      ],
      "metadata": {
        "colab": {
          "base_uri": "https://localhost:8080/"
        },
        "id": "U2TJB21RLFZl",
        "outputId": "4fc63a6a-e1fd-457c-abf5-29aded96832a"
      },
      "execution_count": null,
      "outputs": [
        {
          "output_type": "execute_result",
          "data": {
            "text/plain": [
              "15"
            ]
          },
          "metadata": {},
          "execution_count": 23
        }
      ]
    },
    {
      "cell_type": "code",
      "source": [
        "#find nucleotide count (adenine base)\n",
        "print(my_dna.count('A'))\n",
        "print(new.count(\"A\"))\n",
        "print(seq2.count(\"A\"))"
      ],
      "metadata": {
        "colab": {
          "base_uri": "https://localhost:8080/"
        },
        "id": "RAImzNSsLQyb",
        "outputId": "ba0c4544-e2f4-4cad-db4e-6505520e8658"
      },
      "execution_count": null,
      "outputs": [
        {
          "output_type": "stream",
          "name": "stdout",
          "text": [
            "1\n",
            "4\n",
            "3\n"
          ]
        }
      ]
    },
    {
      "cell_type": "code",
      "source": [
        "# Find location of nucleotide\n",
        "seq2.find(\"G\")"
      ],
      "metadata": {
        "colab": {
          "base_uri": "https://localhost:8080/"
        },
        "id": "7ZjerI3LLcjg",
        "outputId": "488c7542-9df8-44ca-a7cf-67cc77bfb665"
      },
      "execution_count": null,
      "outputs": [
        {
          "output_type": "execute_result",
          "data": {
            "text/plain": [
              "2"
            ]
          },
          "metadata": {},
          "execution_count": 27
        }
      ]
    },
    {
      "cell_type": "code",
      "source": [
        "# Overlap count\n",
        "new.count_overlap(\"CG\")"
      ],
      "metadata": {
        "colab": {
          "base_uri": "https://localhost:8080/"
        },
        "id": "zhvp5VbwL5iB",
        "outputId": "d874ddf4-e51d-4ac9-a205-b377d46ccde5"
      },
      "execution_count": null,
      "outputs": [
        {
          "output_type": "execute_result",
          "data": {
            "text/plain": [
              "2"
            ]
          },
          "metadata": {},
          "execution_count": 29
        }
      ]
    },
    {
      "cell_type": "markdown",
      "source": [
        "Trascription\n",
        "DNA -> mRNA"
      ],
      "metadata": {
        "id": "k7rWLt8dMUey"
      }
    },
    {
      "cell_type": "code",
      "source": [
        "# use new strand of DNA ('gene)\n",
        "gene=Seq(\"CCAGATGCTGAACTACGTC\")"
      ],
      "metadata": {
        "id": "xLNfGuAhMGPK"
      },
      "execution_count": null,
      "outputs": []
    },
    {
      "cell_type": "code",
      "source": [
        "gene.transcribe()"
      ],
      "metadata": {
        "colab": {
          "base_uri": "https://localhost:8080/"
        },
        "id": "ULos3EWXPBCq",
        "outputId": "815b2ede-2c7a-4a10-ca61-06f2c73ccf4c"
      },
      "execution_count": null,
      "outputs": [
        {
          "output_type": "execute_result",
          "data": {
            "text/plain": [
              "Seq('CCAGAUGCUGAACUACGUC')"
            ]
          },
          "metadata": {},
          "execution_count": 31
        }
      ]
    },
    {
      "cell_type": "code",
      "source": [
        "mRNA=gene.transcribe()\n",
        "#Translate the mRNA into protein\n",
        "mRNA.translate()"
      ],
      "metadata": {
        "colab": {
          "base_uri": "https://localhost:8080/"
        },
        "id": "387CMnz5PDT6",
        "outputId": "e28fa732-02ba-4ccb-8e57-191b7278be6b"
      },
      "execution_count": null,
      "outputs": [
        {
          "output_type": "stream",
          "name": "stderr",
          "text": [
            "/usr/local/lib/python3.7/dist-packages/Bio/Seq.py:2983: BiopythonWarning: Partial codon, len(sequence) not a multiple of three. Explicitly trim the sequence or add trailing N before translation. This may become an error in future.\n",
            "  BiopythonWarning,\n"
          ]
        },
        {
          "output_type": "execute_result",
          "data": {
            "text/plain": [
              "Seq('PDAELR')"
            ]
          },
          "metadata": {},
          "execution_count": 32
        }
      ]
    },
    {
      "cell_type": "code",
      "source": [
        "# gene 2 (start with 'start codon, ATG' and stop codon (ATG=start, TAA=stop)\n",
        "gene2=Seq(\"ATGTAA\")\n",
        "mRNA2=gene2.transcribe()\n",
        "protein=mRNA2.translate()"
      ],
      "metadata": {
        "id": "dBWsrj9tPRw1"
      },
      "execution_count": null,
      "outputs": []
    },
    {
      "cell_type": "code",
      "source": [
        "print(mRNA2)\n",
        "print(protein)"
      ],
      "metadata": {
        "colab": {
          "base_uri": "https://localhost:8080/"
        },
        "id": "1HmNHZTzP9yA",
        "outputId": "e2c267de-d860-4a2c-bd7a-b31b2dc2ef9e"
      },
      "execution_count": null,
      "outputs": [
        {
          "output_type": "stream",
          "name": "stdout",
          "text": [
            "AUGUAA\n",
            "M*\n"
          ]
        }
      ]
    },
    {
      "cell_type": "code",
      "source": [
        "#View codon table\n",
        "from Bio.Data import CodonTable"
      ],
      "metadata": {
        "id": "hSkj2Bj8QDBG"
      },
      "execution_count": null,
      "outputs": []
    },
    {
      "cell_type": "code",
      "source": [
        "dir(CodonTable)"
      ],
      "metadata": {
        "colab": {
          "base_uri": "https://localhost:8080/"
        },
        "id": "QEy7eC-cQuGr",
        "outputId": "803873dc-089c-4b0d-de2d-cd9159a0e155"
      },
      "execution_count": null,
      "outputs": [
        {
          "output_type": "execute_result",
          "data": {
            "text/plain": [
              "['AmbiguousCodonTable',\n",
              " 'AmbiguousForwardTable',\n",
              " 'CodonTable',\n",
              " 'IUPACData',\n",
              " 'NCBICodonTable',\n",
              " 'NCBICodonTableDNA',\n",
              " 'NCBICodonTableRNA',\n",
              " 'TranslationError',\n",
              " '__builtins__',\n",
              " '__cached__',\n",
              " '__doc__',\n",
              " '__file__',\n",
              " '__loader__',\n",
              " '__name__',\n",
              " '__package__',\n",
              " '__spec__',\n",
              " 'ambiguous_dna_by_id',\n",
              " 'ambiguous_dna_by_name',\n",
              " 'ambiguous_generic_by_id',\n",
              " 'ambiguous_generic_by_name',\n",
              " 'ambiguous_rna_by_id',\n",
              " 'ambiguous_rna_by_name',\n",
              " 'generic_by_id',\n",
              " 'generic_by_name',\n",
              " 'list_ambiguous_codons',\n",
              " 'list_possible_proteins',\n",
              " 'make_back_table',\n",
              " 'register_ncbi_table',\n",
              " 'standard_dna_table',\n",
              " 'standard_rna_table',\n",
              " 'unambiguous_dna_by_id',\n",
              " 'unambiguous_dna_by_name',\n",
              " 'unambiguous_rna_by_id',\n",
              " 'unambiguous_rna_by_name']"
            ]
          },
          "metadata": {},
          "execution_count": 44
        }
      ]
    },
    {
      "cell_type": "code",
      "source": [
        "# for DNA\n",
        "print(CodonTable.unambiguous_dna_by_name['Standard'])"
      ],
      "metadata": {
        "colab": {
          "base_uri": "https://localhost:8080/"
        },
        "id": "HCQUMHM5QwKO",
        "outputId": "f336193f-75b2-4df8-f0e6-90d41b9b5751"
      },
      "execution_count": null,
      "outputs": [
        {
          "output_type": "stream",
          "name": "stdout",
          "text": [
            "Table 1 Standard, SGC0\n",
            "\n",
            "  |  T      |  C      |  A      |  G      |\n",
            "--+---------+---------+---------+---------+--\n",
            "T | TTT F   | TCT S   | TAT Y   | TGT C   | T\n",
            "T | TTC F   | TCC S   | TAC Y   | TGC C   | C\n",
            "T | TTA L   | TCA S   | TAA Stop| TGA Stop| A\n",
            "T | TTG L(s)| TCG S   | TAG Stop| TGG W   | G\n",
            "--+---------+---------+---------+---------+--\n",
            "C | CTT L   | CCT P   | CAT H   | CGT R   | T\n",
            "C | CTC L   | CCC P   | CAC H   | CGC R   | C\n",
            "C | CTA L   | CCA P   | CAA Q   | CGA R   | A\n",
            "C | CTG L(s)| CCG P   | CAG Q   | CGG R   | G\n",
            "--+---------+---------+---------+---------+--\n",
            "A | ATT I   | ACT T   | AAT N   | AGT S   | T\n",
            "A | ATC I   | ACC T   | AAC N   | AGC S   | C\n",
            "A | ATA I   | ACA T   | AAA K   | AGA R   | A\n",
            "A | ATG M(s)| ACG T   | AAG K   | AGG R   | G\n",
            "--+---------+---------+---------+---------+--\n",
            "G | GTT V   | GCT A   | GAT D   | GGT G   | T\n",
            "G | GTC V   | GCC A   | GAC D   | GGC G   | C\n",
            "G | GTA V   | GCA A   | GAA E   | GGA G   | A\n",
            "G | GTG V   | GCG A   | GAG E   | GGG G   | G\n",
            "--+---------+---------+---------+---------+--\n"
          ]
        }
      ]
    },
    {
      "cell_type": "code",
      "source": [
        "# for RNA\n",
        "print(CodonTable.unambiguous_rna_by_name['Standard'])"
      ],
      "metadata": {
        "colab": {
          "base_uri": "https://localhost:8080/"
        },
        "id": "OemvzWSWQ6BX",
        "outputId": "29988570-e332-487d-9524-6451f71a8898"
      },
      "execution_count": null,
      "outputs": [
        {
          "output_type": "stream",
          "name": "stdout",
          "text": [
            "Table 1 Standard, SGC0\n",
            "\n",
            "  |  U      |  C      |  A      |  G      |\n",
            "--+---------+---------+---------+---------+--\n",
            "U | UUU F   | UCU S   | UAU Y   | UGU C   | U\n",
            "U | UUC F   | UCC S   | UAC Y   | UGC C   | C\n",
            "U | UUA L   | UCA S   | UAA Stop| UGA Stop| A\n",
            "U | UUG L(s)| UCG S   | UAG Stop| UGG W   | G\n",
            "--+---------+---------+---------+---------+--\n",
            "C | CUU L   | CCU P   | CAU H   | CGU R   | U\n",
            "C | CUC L   | CCC P   | CAC H   | CGC R   | C\n",
            "C | CUA L   | CCA P   | CAA Q   | CGA R   | A\n",
            "C | CUG L(s)| CCG P   | CAG Q   | CGG R   | G\n",
            "--+---------+---------+---------+---------+--\n",
            "A | AUU I   | ACU T   | AAU N   | AGU S   | U\n",
            "A | AUC I   | ACC T   | AAC N   | AGC S   | C\n",
            "A | AUA I   | ACA T   | AAA K   | AGA R   | A\n",
            "A | AUG M(s)| ACG T   | AAG K   | AGG R   | G\n",
            "--+---------+---------+---------+---------+--\n",
            "G | GUU V   | GCU A   | GAU D   | GGU G   | U\n",
            "G | GUC V   | GCC A   | GAC D   | GGC G   | C\n",
            "G | GUA V   | GCA A   | GAA E   | GGA G   | A\n",
            "G | GUG V   | GCG A   | GAG E   | GGG G   | G\n",
            "--+---------+---------+---------+---------+--\n"
          ]
        }
      ]
    },
    {
      "cell_type": "markdown",
      "source": [
        "Complementary sequences\n"
      ],
      "metadata": {
        "id": "9MzIlf1URV2g"
      }
    },
    {
      "cell_type": "code",
      "source": [
        "print(gene)\n",
        "print(gene.complement())"
      ],
      "metadata": {
        "colab": {
          "base_uri": "https://localhost:8080/"
        },
        "id": "qdNWXSGvRTTs",
        "outputId": "86a4a68a-1e8b-4162-d7c0-706ef074b457"
      },
      "execution_count": null,
      "outputs": [
        {
          "output_type": "stream",
          "name": "stdout",
          "text": [
            "CCAGATGCTGAACTACGTC\n",
            "GGTCTACGACTTGATGCAG\n"
          ]
        }
      ]
    },
    {
      "cell_type": "code",
      "source": [
        "#reverse complement\n",
        "gene.reverse_complement()"
      ],
      "metadata": {
        "colab": {
          "base_uri": "https://localhost:8080/"
        },
        "id": "lbx0tqwiRgkL",
        "outputId": "144d19fa-ea0f-46ff-c7ea-e4a8646319b6"
      },
      "execution_count": null,
      "outputs": [
        {
          "output_type": "execute_result",
          "data": {
            "text/plain": [
              "Seq('GACGTAGTTCAGCATCTGG')"
            ]
          },
          "metadata": {},
          "execution_count": 50
        }
      ]
    },
    {
      "cell_type": "code",
      "source": [
        "# back transcribe (mRNA to DNA)\n",
        "mRNA2.back_transcribe()"
      ],
      "metadata": {
        "colab": {
          "base_uri": "https://localhost:8080/"
        },
        "id": "ZqgFTLvTRw1I",
        "outputId": "ff82686e-ef78-437d-fcd3-34a157ce42a5"
      },
      "execution_count": null,
      "outputs": [
        {
          "output_type": "execute_result",
          "data": {
            "text/plain": [
              "Seq('ATGTAA')"
            ]
          },
          "metadata": {},
          "execution_count": 52
        }
      ]
    },
    {
      "cell_type": "markdown",
      "source": [
        "COVID-19 protein Sequence"
      ],
      "metadata": {
        "id": "vnmpwUO7SK4a"
      }
    },
    {
      "cell_type": "markdown",
      "source": [
        "Sars-CoV-2: Severe acute respiratory syndrome coronavirus 2 (Sequence taken from GenBank)"
      ],
      "metadata": {
        "id": "Zx618bt-S54H"
      }
    },
    {
      "cell_type": "code",
      "source": [
        "# COVID19 genome, downloaded from Genbank, FASTA format\n",
        "# download in txt file\n",
        "#load file\n",
        "from Bio import SeqIO"
      ],
      "metadata": {
        "id": "Slr8LqpgR0Kf"
      },
      "execution_count": null,
      "outputs": []
    },
    {
      "cell_type": "code",
      "source": [
        "for record in SeqIO.parse(\"sequence.fasta\",'fasta'):\n",
        "  print(record)"
      ],
      "metadata": {
        "colab": {
          "base_uri": "https://localhost:8080/"
        },
        "id": "YISgNN2ed5lD",
        "outputId": "f3a7a244-202b-426e-999d-4c05233d6212"
      },
      "execution_count": null,
      "outputs": [
        {
          "output_type": "stream",
          "name": "stdout",
          "text": [
            "ID: NC_045512.2\n",
            "Name: NC_045512.2\n",
            "Description: NC_045512.2 Severe acute respiratory syndrome coronavirus 2 isolate Wuhan-Hu-1, complete genome\n",
            "Number of features: 0\n",
            "Seq('ATTAAAGGTTTATACCTTCCCAGGTAACAAACCAACCAACTTTCGATCTCTTGT...AAA')\n"
          ]
        }
      ]
    },
    {
      "cell_type": "code",
      "source": [
        "cov=SeqIO.read(\"sequence.fasta\",'fasta')"
      ],
      "metadata": {
        "id": "b_7Kgaiaaq4T"
      },
      "execution_count": null,
      "outputs": []
    },
    {
      "cell_type": "code",
      "source": [
        "cov"
      ],
      "metadata": {
        "colab": {
          "base_uri": "https://localhost:8080/"
        },
        "id": "O9R-arcYd1m3",
        "outputId": "20b302dc-eb72-4015-a7fa-6607815fcd49"
      },
      "execution_count": null,
      "outputs": [
        {
          "output_type": "execute_result",
          "data": {
            "text/plain": [
              "SeqRecord(seq=Seq('ATTAAAGGTTTATACCTTCCCAGGTAACAAACCAACCAACTTTCGATCTCTTGT...AAA'), id='NC_045512.2', name='NC_045512.2', description='NC_045512.2 Severe acute respiratory syndrome coronavirus 2 isolate Wuhan-Hu-1, complete genome', dbxrefs=[])"
            ]
          },
          "metadata": {},
          "execution_count": 79
        }
      ]
    },
    {
      "cell_type": "code",
      "source": [
        "cov_dna=cov.seq"
      ],
      "metadata": {
        "id": "7J8KxzwAeKQV"
      },
      "execution_count": null,
      "outputs": []
    },
    {
      "cell_type": "code",
      "source": [
        "#lenght of DNA (of virus)\n",
        "len(cov_dna)"
      ],
      "metadata": {
        "colab": {
          "base_uri": "https://localhost:8080/"
        },
        "id": "mzMP20s4eUpj",
        "outputId": "f406948a-b022-42a4-a5f5-4a4547f42955"
      },
      "execution_count": null,
      "outputs": [
        {
          "output_type": "execute_result",
          "data": {
            "text/plain": [
              "29903"
            ]
          },
          "metadata": {},
          "execution_count": 83
        }
      ]
    },
    {
      "cell_type": "code",
      "source": [
        "#Synthesize the protein code of the virus\n",
        "#Sars-Cov2 genome is a linear positive strand RNA \n",
        "#Genbank genome displays it as DNA ... it has to be transcribed\n",
        "# DNA -> RNA -> Protein"
      ],
      "metadata": {
        "id": "h0xem6daeenA"
      },
      "execution_count": null,
      "outputs": []
    },
    {
      "cell_type": "code",
      "source": [
        "# Transcription (DNA to RNA)\n",
        "covRNA=cov_dna.transcribe()\n",
        "covRNA"
      ],
      "metadata": {
        "colab": {
          "base_uri": "https://localhost:8080/"
        },
        "id": "OZ5c9bNnfpRr",
        "outputId": "10aa3118-e87f-4a0e-bbbb-491181bb6607"
      },
      "execution_count": null,
      "outputs": [
        {
          "output_type": "execute_result",
          "data": {
            "text/plain": [
              "Seq('AUUAAAGGUUUAUACCUUCCCAGGUAACAAACCAACCAACUUUCGAUCUCUUGU...AAA')"
            ]
          },
          "metadata": {},
          "execution_count": 89
        }
      ]
    },
    {
      "cell_type": "code",
      "source": [
        "# Translate (RNA to protein/Amino Acid)\n",
        "cov_protein=covRNA.translate()\n",
        "cov_protein"
      ],
      "metadata": {
        "colab": {
          "base_uri": "https://localhost:8080/"
        },
        "id": "DjoIM5iaf13U",
        "outputId": "065a16dc-d65f-4d36-a1c5-31906bebea95"
      },
      "execution_count": null,
      "outputs": [
        {
          "output_type": "stream",
          "name": "stderr",
          "text": [
            "/usr/local/lib/python3.7/dist-packages/Bio/Seq.py:2983: BiopythonWarning: Partial codon, len(sequence) not a multiple of three. Explicitly trim the sequence or add trailing N before translation. This may become an error in future.\n",
            "  BiopythonWarning,\n"
          ]
        },
        {
          "output_type": "execute_result",
          "data": {
            "text/plain": [
              "Seq('IKGLYLPR*QTNQLSISCRSVL*TNFKICVAVTRLHA*CTHAV*LITNYCR*QD...KKK')"
            ]
          },
          "metadata": {},
          "execution_count": 91
        }
      ]
    },
    {
      "cell_type": "code",
      "source": [
        "#Lenght of covid proteins(in AA)\n",
        "len(cov_protein)"
      ],
      "metadata": {
        "colab": {
          "base_uri": "https://localhost:8080/"
        },
        "id": "YSD3Yuh5geFG",
        "outputId": "05395acd-bb45-4a1e-ae6f-055f66f03282"
      },
      "execution_count": null,
      "outputs": [
        {
          "output_type": "execute_result",
          "data": {
            "text/plain": [
              "9967"
            ]
          },
          "metadata": {},
          "execution_count": 92
        }
      ]
    },
    {
      "cell_type": "code",
      "source": [
        "# Find protein seq before stop codon\n",
        "cov_protein_nostop=cov_protein.split(\"*\")"
      ],
      "metadata": {
        "id": "kWQZtYQxgs9R"
      },
      "execution_count": null,
      "outputs": []
    },
    {
      "cell_type": "code",
      "source": [
        "#show all protein sequences\n",
        "cov_protein_nostop"
      ],
      "metadata": {
        "colab": {
          "base_uri": "https://localhost:8080/"
        },
        "id": "5t0vO1S9hUJx",
        "outputId": "04d392b0-65e4-48db-b0ec-ffb10cb655c1"
      },
      "execution_count": null,
      "outputs": [
        {
          "output_type": "execute_result",
          "data": {
            "text/plain": [
              "[Seq('IKGLYLPR'),\n",
              " Seq('QTNQLSISCRSVL'),\n",
              " Seq('TNFKICVAVTRLHA'),\n",
              " Seq('CTHAV'),\n",
              " Seq('LITNYCR'),\n",
              " Seq('QDTSNSSIFCRLLTVSSVLQPIISTSRFRPGVTER'),\n",
              " Seq('DGEPCPWFQRENTRPTQFACFTGSRRARTWLWRLRGGGLIRGTSTS'),\n",
              " Seq('RWHLWLSRS'),\n",
              " Seq('KRRFAST'),\n",
              " Seq('TALCVHQTFGCSNCTSWSCYG'),\n",
              " Seq('AGSRTRRHSVRS'),\n",
              " Seq('W'),\n",
              " Seq('DTWCPCPSCGRNTSGLPQGSSS'),\n",
              " Seq('ER'),\n",
              " Seq(''),\n",
              " Seq('RSWWP'),\n",
              " Seq('LRRRSKVI'),\n",
              " Seq('LRRRAWH'),\n",
              " Seq('SL'),\n",
              " Seq('RFSRKLEH'),\n",
              " Seq('T'),\n",
              " Seq('QWCYP'),\n",
              " Seq('THA'),\n",
              " Seq('A'),\n",
              " Seq('RRGIHSLCR'),\n",
              " Seq('QLLWP'),\n",
              " Seq('WLPS'),\n",
              " Seq('VH'),\n",
              " Seq('RPSSTCW'),\n",
              " Seq('SFMHFVRTTGLY'),\n",
              " Seq('H'),\n",
              " Seq('EGCILLP'),\n",
              " Seq('T'),\n",
              " Seq('A'),\n",
              " Seq('NCLVHGTF'),\n",
              " Seq('KEL'),\n",
              " Seq('IADTF'),\n",
              " Seq('N'),\n",
              " Seq('IGKEI'),\n",
              " Seq('HLQWGMSKFCISLKFHNQDYSTKG'),\n",
              " Seq('KEKA'),\n",
              " Seq('WLYG'),\n",
              " Seq('NSICLSSCVTK'),\n",
              " Seq('MQPNVPFNSHEV'),\n",
              " Seq('SLW'),\n",
              " Seq('NFMADGRFC'),\n",
              " Seq('SHLRILWH'),\n",
              " Seq('EFD'),\n",
              " Seq('RRCHYLWLLTPKCCC'),\n",
              " Seq('NLLSSMSQFRSRT'),\n",
              " Seq('A'),\n",
              " Seq('SCRIP'),\n",
              " Seq(''),\n",
              " Seq('IWLENHSS'),\n",
              " Seq('GWSHYCLWRLCVLLCWLP'),\n",
              " Seq('QVCLLGSTC'),\n",
              " Seq('R'),\n",
              " Seq('HRL'),\n",
              " Seq('PYRCCWRRFRRS'),\n",
              " Seq(''),\n",
              " Seq('QPS'),\n",
              " Seq('NTPKRESQHQYCW'),\n",
              " Seq('L'),\n",
              " Seq('T'),\n",
              " Seq(''),\n",
              " Seq('RDRHYFGIFFCFHKCFCGNCERFGL'),\n",
              " Seq('SIQTNC'),\n",
              " Seq('ILW'),\n",
              " Seq('F'),\n",
              " Seq('SYKRKS'),\n",
              " Seq('KRCLEYW'),\n",
              " Seq('TEINTESSLCICIRGCSCCTINFLPHS'),\n",
              " Seq('NCSKFCACFTEGRYNNTRWNFTVFTETH'),\n",
              " Seq('CYDVHI'),\n",
              " Seq('FGY'),\n",
              " Seq('QSSCNGLHYRWCCSVDFAVAN'),\n",
              " Seq('HLWHCL'),\n",
              " Seq('KTQTRP'),\n",
              " Seq('LA'),\n",
              " Seq('REV'),\n",
              " Seq('GRCRVS'),\n",
              " Seq('RRLGNC'),\n",
              " Seq('IYLNLCL'),\n",
              " Seq('NCRWTNCHLCKGN'),\n",
              " Seq('GECSDIL'),\n",
              " Seq('ACK'),\n",
              " Seq('IFGFVC'),\n",
              " Seq('LYHYWWS'),\n",
              " Seq('T'),\n",
              " Seq('SLEFR'),\n",
              " Seq('NICHALKGIVQKVC'),\n",
              " Seq('IQRRNWPTHASKSPKRNYLLRGRNTSHRSVNRGSCLENW'),\n",
              " Seq('FTTIRTTY'),\n",
              " Seq(''),\n",
              " Seq('SC'),\n",
              " Seq('SSIGWYTSLY'),\n",
              " Seq('RAYVARNQRHRKVLCPCT'),\n",
              " Seq('YDGNKQYLHTQRRCTNKGYFW'),\n",
              " Seq(''),\n",
              " Seq('HCDRSARLQECEYHF'),\n",
              " Seq('T'),\n",
              " Seq(''),\n",
              " Seq('KD'),\n",
              " Seq(''),\n",
              " Seq('ST'),\n",
              " Seq(''),\n",
              " Seq('EVLCLYS'),\n",
              " Seq('TRYRSK'),\n",
              " Seq('VRLCCGRCCHKNFATSI'),\n",
              " Seq('ITYTTGH'),\n",
              " Seq('FR'),\n",
              " Seq('VEYGYILLI'),\n",
              " Seq(''),\n",
              " Seq('VW'),\n",
              " Seq('V'),\n",
              " Seq('IGFTYVLFFLPSR'),\n",
              " Seq('G'),\n",
              " Seq('RRR'),\n",
              " Seq('L'),\n",
              " Seq('RRRV'),\n",
              " Seq('AINSI'),\n",
              " Seq('VWY'),\n",
              " Seq('R'),\n",
              " Seq('LPR'),\n",
              " Seq('TFGIWCHFCCSST'),\n",
              " Seq('RRARRRLVR'),\n",
              " Seq(''),\n",
              " Seq(''),\n",
              " Seq('STNCWSTRRQ'),\n",
              " Seq('GQSDNYYSNNC'),\n",
              " Seq('GSTSIRDGTYTSCSDY'),\n",
              " Seq('SE'),\n",
              " Seq('F'),\n",
              " Seq('WLFKTY'),\n",
              " Seq('QCIH'),\n",
              " Seq('KCRHCGRS'),\n",
              " Seq('KGKTNSGC'),\n",
              " Seq('CSQCLP'),\n",
              " Seq('TWRRCCRSLK'),\n",
              " Seq('GY'),\n",
              " Seq('QCHAS'),\n",
              " Seq('I'),\n",
              " Seq(''),\n",
              " Seq('LHSY'),\n",
              " Seq('WTT'),\n",
              " Seq('SGW'),\n",
              " Seq('LCFKRTQSC'),\n",
              " Seq('TLSSCCRPKC'),\n",
              " Seq('QR'),\n",
              " Seq('RHSTS'),\n",
              " Seq('ECL'),\n",
              " Seq('KF'),\n",
              " Seq('SARSSTCTIIISWYFWC'),\n",
              " Seq('PYTFFKSLCRYCSHKCLLSCL'),\n",
              " Seq(''),\n",
              " Seq('KSL'),\n",
              " Seq('QTCFKLFGNEE'),\n",
              " Seq('KAS'),\n",
              " Seq('TKDR'),\n",
              " Seq('DS'),\n",
              " Seq('RGS'),\n",
              " Seq('AIYN'),\n",
              " Seq('K'),\n",
              " Seq('TFS'),\n",
              " Seq('TEKTR'),\n",
              " Seq(''),\n",
              " Seq('ENQSLC'),\n",
              " Seq('RSYNNSGRN'),\n",
              " Seq('VPHRKLVTLY'),\n",
              " Seq('H'),\n",
              " Seq('WQSSSRFCHSC'),\n",
              " Seq(''),\n",
              " Seq('H'),\n",
              " Seq('HHFLKERCSIYSG'),\n",
              " Seq('CCSRGCFNCCGYTY'),\n",
              " Seq('KGWWHY'),\n",
              " Seq('NASESFEKSANRQLYNHLPGSGFKWLHCRGGKDSA'),\n",
              " Seq('KV'),\n",
              " Seq('KCLLHSTIYYL'),\n",
              " Seq(''),\n",
              " Seq('EARNSWNCFLEFARNACTCRRNTQINACLCGN'),\n",
              " Seq('SHSFNYTA'),\n",
              " Seq('I'),\n",
              " Seq('GY'),\n",
              " Seq('NTRGCG'),\n",
              " Seq('LWC'),\n",
              " Seq('ILLLHQ'),\n",
              " Seq('NNCSVTYQHT'),\n",
              " Seq('RSK'),\n",
              " Seq('NSCYNATWLCNTWLKFGRSCSVYEISQSASYSFCFFT'),\n",
              " Seq('CCYSV'),\n",
              " Seq('WLSYFFF'),\n",
              " Seq('NT'),\n",
              " Seq('RTFY'),\n",
              " Seq('NHLTCWFL'),\n",
              " Seq('RLVLFWTIYTTRYRIS'),\n",
              " Seq('ER'),\n",
              " Seq(''),\n",
              " Seq('KCILH'),\n",
              " Seq(''),\n",
              " Seq('SYHIPPRW'),\n",
              " Seq('SYHL'),\n",
              " Seq('QS'),\n",
              " Seq('DTSFFERSEDY'),\n",
              " Seq('GVYNSRQH'),\n",
              " Seq('PPHASCGHVNDIWTTVWSNLFGWS'),\n",
              " Seq('CY'),\n",
              " Seq('NKTS'),\n",
              " Seq('FT'),\n",
              " Seq('R'),\n",
              " Seq('NILCFT'),\n",
              " Seq(''),\n",
              " Seq(''),\n",
              " Seq('HSTC'),\n",
              " Seq('GF'),\n",
              " Seq('VLPHN'),\n",
              " Seq('S'),\n",
              " Seq('FSG'),\n",
              " Seq('VHVSIKSH'),\n",
              " Seq('KVEIPTS'),\n",
              " Seq('WFNFY'),\n",
              " Seq('MGR'),\n",
              " Seq('QLLSCHCIVNTPTNRVEV'),\n",
              " Seq('STCSTRCLLQSKGW'),\n",
              " Seq('SC'),\n",
              " Seq('LLCTYLSLL'),\n",
              " Seq(''),\n",
              " Seq('DSR'),\n",
              " Seq('VR'),\n",
              " Seq('C'),\n",
              " Seq('RNNELLVSTCQFRFLQKSLERGV'),\n",
              " Seq('NLWTTADNP'),\n",
              " Seq('GCRSCYVHGHTFL'),\n",
              " Seq('TI'),\n",
              " Seq('ERCSDTLYVW'),\n",
              " Seq('TSYKISSTTGVTFCYDVSTTCSV'),\n",
              " Seq('T'),\n",
              " Seq('AWYIYLC'),\n",
              " Seq(''),\n",
              " Seq('VHW'),\n",
              " Seq('LPVWSL'),\n",
              " Seq('TYNF'),\n",
              " Seq('RNFVLHRRCFTYKVLRIQRSYYGCFLQRKQLHNNHKTSYL'),\n",
              " Seq('IGWCCLYRN'),\n",
              " Seq('P'),\n",
              " Seq('VGQLL'),\n",
              " Seq('ERQFLFHRATN'),\n",
              " Seq('SCTKPTISKRKLR'),\n",
              " Seq('F'),\n",
              " Seq('VCM'),\n",
              " Seq(''),\n",
              " Seq('YQIC'),\n",
              " Seq(''),\n",
              " Seq('FKPVNWL'),\n",
              " Seq('ETCFKRA'),\n",
              " Seq('SYIFP'),\n",
              " Seq('LKW'),\n",
              " Seq('CGGY'),\n",
              " Seq('L'),\n",
              " Seq('TLHTLF'),\n",
              " Seq('ERS'),\n",
              " Seq('IVT'),\n",
              " Seq('TYCLAC'),\n",
              " Seq('QCN'),\n",
              " Seq(''),\n",
              " Seq('SHV'),\n",
              " Seq('TKYLVYTLSLEHKTS'),\n",
              " Seq('NIKFV'),\n",
              " Seq('CTEVRGRAGNG'),\n",
              " Seq('SCLRRSKTSL'),\n",
              " Seq('RSSGKSYHTERRS'),\n",
              " Seq('V'),\n",
              " Seq('CENYRSCRRHYT'),\n",
              " Seq('TSK'),\n",
              " Seq(''),\n",
              " Seq('FKNYRRGWPHRSNGCLCRQF'),\n",
              " Seq('SYY'),\n",
              " Seq('ET'),\n",
              " Seq(''),\n",
              " Seq('II'),\n",
              " Seq('SIRFENPCYSWFSCC'),\n",
              " Seq(''),\n",
              " Seq('CPLGYYS'),\n",
              " Seq('LC'),\n",
              " Seq('AFS'),\n",
              " Seq('QSC'),\n",
              " Seq('YNY'),\n",
              " Seq('HSYTVFKPCLY'),\n",
              " Seq('LYALFLYFIATIVYFY'),\n",
              " Seq('KYKF'),\n",
              " Seq('N'),\n",
              " Seq('SIYADYYSKEYC'),\n",
              " Seq('ECR'),\n",
              " Seq('ILSRGFI'),\n",
              " Seq('LFEVT'),\n",
              " Seq('FF'),\n",
              " Seq('TDKYYNLVFTIKCLPRFFNLLNRCFRCFNV'),\n",
              " Seq('FRHAFLLYWLQRRLFELY'),\n",
              " Seq('CHYCNLLYWFYTL'),\n",
              " Seq('CLS'),\n",
              " Seq('WFRFFRHLSFFRNYTNYHFIF'),\n",
              " Seq('MGFNCFWLSCRVVFGIYSFH'),\n",
              " Seq('VFLCTWIGCNHAIVFQLFCSTFY'),\n",
              " Seq(''),\n",
              " Seq('FLAYVVNN'),\n",
              " Seq('SCTNGPDFSYG'),\n",
              " Seq('NVHLLCIILLCMEKLCACCRRL'),\n",
              " Seq('FINLYDVLQT'),\n",
              " Seq(''),\n",
              " Seq('SNKSRMYNYC'),\n",
              " Seq('WC'),\n",
              " Seq('KVLLCLC'),\n",
              " Seq('WR'),\n",
              " Seq('RLLQTTQLELC'),\n",
              " Seq('L'),\n",
              " Seq('YILCW'),\n",
              " Seq('YIY'),\n",
              " Seq(''),\n",
              " Seq(''),\n",
              " Seq('SCERLVTTV'),\n",
              " Seq('KTNKSY'),\n",
              " Seq('PVFLHR'),\n",
              " Seq(''),\n",
              " Seq('CYSEEWFHPSLL'),\n",
              " Seq(''),\n",
              " Seq('SWSKDL'),\n",
              " Seq('KTFSLSFC'),\n",
              " Seq('LRQPES'),\n",
              " Seq(''),\n",
              " Seq('H'),\n",
              " Seq('RFIAY'),\n",
              " Seq('CYSF'),\n",
              " Seq('W'),\n",
              " Seq('IKM'),\n",
              " Seq('RIICKISVCLLQSAYVSTYTVTRSGISV'),\n",
              " Seq('CW'),\n",
              " Seq(''),\n",
              " Seq('CGSCS'),\n",
              " Seq('NV'),\n",
              " Seq('CLR'),\n",
              " Seq('YVFINF'),\n",
              " Seq('RTNGKTQNTSCNCRS'),\n",
              " Seq('TCKECVLRQCLIYFYFSSSARVC'),\n",
              " Seq('FRCRN'),\n",
              " Seq('RCC'),\n",
              " Seq('MS'),\n",
              " Seq('IVTSI'),\n",
              " Seq('HRSYWR'),\n",
              " Seq('L'),\n",
              " Seq(''),\n",
              " Seq('LYAHL'),\n",
              " Seq('QS'),\n",
              " Seq('KHDTP'),\n",
              " Seq('PWCLY'),\n",
              " Seq('L'),\n",
              " Seq('CASY'),\n",
              " Seq('CAGSKKSQHCFDMER'),\n",
              " Seq('RFHVIV'),\n",
              " Seq('TTTKTNT'),\n",
              " Seq('CC'),\n",
              " Seq('KE'),\n",
              " Seq('LTF'),\n",
              " Seq('VDMCNY'),\n",
              " Seq('TSC'),\n",
              " Seq('CCNNKDST'),\n",
              " Seq('GW'),\n",
              " Seq('NC'),\n",
              " Seq(''),\n",
              " Seq('LVEAVN'),\n",
              " Seq('SYTCVPFCCCYFLFNNTCSCHV'),\n",
              " Seq('TY'),\n",
              " Seq('LFK'),\n",
              " Seq('NHRIQGY'),\n",
              " Seq('WWCHS'),\n",
              " Seq('HSIYRYLFC'),\n",
              " Seq('QTC'),\n",
              " Seq('F'),\n",
              " Seq('HMV'),\n",
              " Seq('PAWW'),\n",
              " Seq('LY'),\n",
              " Seq(''),\n",
              " Seq('QSLPIDCCSHNKRSGFCRAWFAWHDITHN'),\n",
              " Seq('W'),\n",
              " Seq('LFAFLT'),\n",
              " Seq('SF'),\n",
              " Seq('CSW'),\n",
              " Seq('HLLHTIKTYRVH'),\n",
              " Seq('LCNISLCFGC'),\n",
              " Seq('MYNF'),\n",
              " Seq('RCFW'),\n",
              " Seq('ASTILL'),\n",
              " Seq('YQCTRRFCCL'),\n",
              " Seq('KFTP'),\n",
              " Seq('HTLCAHGWLYYSIS'),\n",
              " Seq('HLP'),\n",
              " Seq('RFC'),\n",
              " Seq('SGNNF'),\n",
              " Seq('F'),\n",
              " Seq('VL'),\n",
              " Seq('ARHL'),\n",
              " Seq('KIRSWCLCIY'),\n",
              " Seq('W'),\n",
              " Seq('MGT'),\n",
              " Seq('Q'),\n",
              " Seq('LLQIFTRSFLWCRCCKFTY'),\n",
              " Seq('YVYTTNSTYWCFGHISIYSSWWYCSYRSNMPCLLFYEV'),\n",
              " Seq('KSFW'),\n",
              " Seq('IQSCSCL'),\n",
              " Seq('YFTIPYVIHCTLFNTSLLILTWCLFCYLLVLDILSY'),\n",
              " Seq(''),\n",
              " Seq('CFFFSTYSVDGYVHTFSTFLDNNCLYHLYFHKAFLLVL'),\n",
              " Seq(''),\n",
              " Seq('LPKETCSL'),\n",
              " Seq('WCFL'),\n",
              " Seq('YF'),\n",
              " Seq('RSCAVHLFVK'),\n",
              " Seq('RNVSKVA'),\n",
              " Seq(''),\n",
              " Seq('CAITSYAI'),\n",
              " Seq(''),\n",
              " Seq('ILSSL'),\n",
              " Seq(''),\n",
              " Seq('VQVF'),\n",
              " Seq('WSNGYN'),\n",
              " Seq('LQRSCLLSSRKGSQ'),\n",
              " Seq('LQ'),\n",
              " Seq('LRF'),\n",
              " Seq('CSLPTTTNLYHLSCFAEWF'),\n",
              " Seq('KNGIPIW'),\n",
              " Seq('S'),\n",
              " Seq('GLYGTSNLWYNYT'),\n",
              " Seq('RSLA'),\n",
              " Seq(''),\n",
              " Seq('RSLLSKTCDLHL'),\n",
              " Seq('RHA'),\n",
              " Seq('P'),\n",
              " Seq('L'),\n",
              " Seq('RFTHS'),\n",
              " Seq('V'),\n",
              " Seq('S'),\n",
              " Seq('FLGTGW'),\n",
              " Seq('CSTQGYWTFYAKLCT'),\n",
              " Seq('A'),\n",
              " Seq('G'),\n",
              " Seq('YSQS'),\n",
              " Seq('DT'),\n",
              " Seq('V'),\n",
              " Seq('VCSHSTRTDFFSVSLLQWFTIWCLPMCYEAQFHY'),\n",
              " Seq('GFIP'),\n",
              " Seq('WFMW'),\n",
              " Seq('CWF'),\n",
              " Seq('HRL'),\n",
              " Seq('LCLFLLHAPYGITNWSSCWHRLRR'),\n",
              " Seq('LLWTFC'),\n",
              " Seq('QANSTSSWYGHNYYS'),\n",
              " Seq('CFSLVVRCCYKWRQVVSQSIYHNS'),\n",
              " Seq(''),\n",
              " Seq('L'),\n",
              " Seq('PCGYEVQL'),\n",
              " Seq('TSNTRPC'),\n",
              " Seq('HTRTSFCSNWNCRFRYVCFIKRITAKWYEWTYHIG'),\n",
              " Seq('CFIRR'),\n",
              " Seq('IYTF'),\n",
              " Seq('CC'),\n",
              " Seq('TMLRCYFPKCSEKNNQGYTPLVVTHNFDFTFSFSPEYSMVFVLFFV'),\n",
              " Seq('KCLFTFCYGYYCYVCFCNDVCQT'),\n",
              " Seq('ACISLFVFVTFSCHCSLF'),\n",
              " Seq('YGLYAC'),\n",
              " Seq('LGDAYYDMVGYG'),\n",
              " Seq('Y'),\n",
              " Seq('FVWF'),\n",
              " Seq('AKRLCYVCISCSVTNPYDSKNCV'),\n",
              " Seq(''),\n",
              " Seq('WC'),\n",
              " Seq('ESVDTYECLDTRL'),\n",
              " Seq('SLLW'),\n",
              " Seq('CFRSSHFHVGSYNLCYF'),\n",
              " Seq('LLRCSYNCHVFGQRYCFYVC'),\n",
              " Seq('VLPYFLHNW'),\n",
              " Seq('YTSVYNASLLFLRLFLYLLLWPLLFTQPLL'),\n",
              " Seq('TDSWCL'),\n",
              " Seq('LLSFYTGV'),\n",
              " Seq('IYEFTGTTPTQE'),\n",
              " Seq('HRCLQTQH'),\n",
              " Seq('IVGCWWQTLYQSSHCTV'),\n",
              " Seq('NVRCKVHISSLTLSFATTQSRIII'),\n",
              " Seq('IVGSMCPVTQ'),\n",
              " Seq('HSLS'),\n",
              " Seq('RYY'),\n",
              " Seq('SL'),\n",
              " Seq('KNGFTTFCFAFHAGCCRHKQAL'),\n",
              " Seq('RNAGQQGNLTSYSLRV'),\n",
              " Seq('FPSIICSFCYCSRSL'),\n",
              " Seq('AGCC'),\n",
              " Seq('W'),\n",
              " Seq('F'),\n",
              " Seq('SCS'),\n",
              " Seq('KVEEVFECG'),\n",
              " Seq('I'),\n",
              " Seq('I'),\n",
              " Seq('P'),\n",
              " Seq('CSHAT'),\n",
              " Seq('VGKDG'),\n",
              " Seq('SSYDPNV'),\n",
              " Seq('TG'),\n",
              " Seq('I'),\n",
              " Seq('GQEGKSY'),\n",
              " Seq('CYADNAFHYA'),\n",
              " Seq('KVG'),\n",
              " Seq(''),\n",
              " Seq('CTQQHYQQCKRWLCSLEHNTSYNSSQTNGCHTRL'),\n",
              " Seq('HI'),\n",
              " Seq('KYV'),\n",
              " Seq('WYNIYLCISIVGNPTGCRCR'),\n",
              " Seq(''),\n",
              " Seq('NCST'),\n",
              " Seq(''),\n",
              " Seq('N'),\n",
              " Seq('YGQFT'),\n",
              " Seq('FSMASYCNSFKGQFCCQITE'),\n",
              " Seq(''),\n",
              " Seq('A'),\n",
              " Seq('SCCTTTDVLCCRYYTNCLH'),\n",
              " Seq(''),\n",
              " Seq('QCVSLLQHNKGR'),\n",
              " Seq('VCTCTVIRFTGFEMG'),\n",
              " Seq('IP'),\n",
              " Seq('E'),\n",
              " Seq('WNWYYLYRTGTTL'),\n",
              " Seq('VCYRHT'),\n",
              " Seq('RS'),\n",
              " Seq('SEVFILY'),\n",
              " Seq('RIKQPK'),\n",
              " Seq('RYGTW'),\n",
              " Seq('FSCHSTSTSW'),\n",
              " Seq('CNRSACQFNCIIFLCFCCRCC'),\n",
              " Seq('SLQRLSS'),\n",
              " Seq('WGTTNH'),\n",
              " Seq('LC'),\n",
              " Seq('DVVYTHWYWSGNNSYTGSQYGSRILWWCIVLSVLPLPHRSSKS'),\n",
              " Seq('RIL'),\n",
              " Seq('LKR'),\n",
              " Seq('VCTNTYNLC'),\n",
              " Seq(''),\n",
              " Seq('PCGFYT'),\n",
              " Seq('KHSLYRLRYVERLWL'),\n",
              " Seq('L'),\n",
              " Seq('STPRTHASVS'),\n",
              " Seq('CTIVFKRVCGVSAARLTPCGTGTSTDVVYRAFDIYNDKVAGFAKFLKTNCCRFQ...VNN'),\n",
              " Seq('TNNVCFSCFIATSL'),\n",
              " Seq('SVC'),\n",
              " Seq('SYNQNSITPCIH'),\n",
              " Seq('FFHTWCLLP'),\n",
              " Seq('QSFQILSFTFNSGLVLTFLFQCYLVPCYTCLWDQWY'),\n",
              " Seq('EV'),\n",
              " Seq(''),\n",
              " Seq('PCPTI'),\n",
              " Seq(''),\n",
              " Seq('WCLFCFH'),\n",
              " Seq('EV'),\n",
              " Seq('HNKRLDFWYYFRFEDPVPTYC'),\n",
              " Seq(''),\n",
              " Seq('RY'),\n",
              " Seq('CCY'),\n",
              " Seq('SL'),\n",
              " Seq('ISIL'),\n",
              " Seq(''),\n",
              " Seq('SIFGCLLPQKQQKLDGK'),\n",
              " Seq('VQSLF'),\n",
              " Seq('CE'),\n",
              " Seq('LHF'),\n",
              " Seq('ICLSAFSYGP'),\n",
              " Seq('RKTG'),\n",
              " Seq('FQKS'),\n",
              " Seq('GICV'),\n",
              " Seq('EY'),\n",
              " Seq('WLF'),\n",
              " Seq('NIF'),\n",
              " Seq('AHAY'),\n",
              " Seq('FSA'),\n",
              " Seq('SPSGFFGFRTIGRFANRY'),\n",
              " Seq('HH'),\n",
              " Seq('VSNFTCFT'),\n",
              " Seq('KLFDSW'),\n",
              " Seq('FFFRLDSWCCSLLCGLSST'),\n",
              " Seq('DFSIKI'),\n",
              " Seq(''),\n",
              " Seq('KWNHYRCCRLCT'),\n",
              " Seq('PSLRNKVYVEILHCRKRNLSNF'),\n",
              " Seq('L'),\n",
              " Seq('SPTNRIYC'),\n",
              " Seq('IS'),\n",
              " Seq('YYKLVPFW'),\n",
              " Seq('SF'),\n",
              " Seq('RHQICICLCLEQEENQQLCC'),\n",
              " Seq('LFCPI'),\n",
              " Seq('FRIIFHF'),\n",
              " Seq('VLWSVSY'),\n",
              " Seq('IK'),\n",
              " Seq('SLLY'),\n",
              " Seq('CLCRFICN'),\n",
              " Seq('R'),\n",
              " Seq(''),\n",
              " Seq('SQTNRSRANWKDC'),\n",
              " Seq('L'),\n",
              " Seq('L'),\n",
              " Seq('ITR'),\n",
              " Seq('FYRLRYSLEF'),\n",
              " Seq('QS'),\n",
              " Seq('F'),\n",
              " Seq('GWW'),\n",
              " Seq('L'),\n",
              " Seq('LPV'),\n",
              " Seq('IV'),\n",
              " Seq('EV'),\n",
              " Seq('SQTF'),\n",
              " Seq('ERYFN'),\n",
              " Seq('NLSGR'),\n",
              " Seq('HTL'),\n",
              " Seq('WC'),\n",
              " Seq('RF'),\n",
              " Seq('LLLSFTIIWFPTH'),\n",
              " Seq('WCWLPTIQSSSTFF'),\n",
              " Seq('TSTCTSNCLWT'),\n",
              " Seq('KVY'),\n",
              " Seq('FG'),\n",
              " Seq('KQMCQFQLQWFNRHRCSY'),\n",
              " Seq('V'),\n",
              " Seq('QKVSAFPTIWQRHC'),\n",
              " Seq('HY'),\n",
              " Seq('CCP'),\n",
              " Seq('STDT'),\n",
              " Seq('DS'),\n",
              " Seq('HYTMFFWWCQCYNTRNKYF'),\n",
              " Seq('PGCCSLSGC'),\n",
              " Seq('LHRSPCCYSCRSTYSYLACLFYRF'),\n",
              " Seq('CFSNTCRLFNRG'),\n",
              " Seq('TCQQLI'),\n",
              " Seq('V'),\n",
              " Seq('HTHWCRYMR'),\n",
              " Seq('LSDSD'),\n",
              " Seq('FSSAGT'),\n",
              " Seq('CS'),\n",
              " Seq('SIHHCLHYVTWCRKFSCLL'),\n",
              " Seq(''),\n",
              " Seq('LYCHTHKFYY'),\n",
              " Seq('CYHRNSTSVYDQDISRLYNVHLW'),\n",
              " Seq('FN'),\n",
              " Seq('MQQSFVAIWQFLYTIKPCFNWNSC'),\n",
              " Seq('TRQKHPRSFCTSQTNLQNTTN'),\n",
              " Seq('RFWWF'),\n",
              " Seq('FFTNITRSIKTKQEVIY'),\n",
              " Seq('RSTFQQSDTCRCWLHQTIW'),\n",
              " Seq('LPW'),\n",
              " Seq('YCC'),\n",
              " Seq('RPHLCTKV'),\n",
              " Seq('RPYCFATFAHR'),\n",
              " Seq('NDCSIHFCTVSGYNHFWLDLWCRCCITNTICYANGL'),\n",
              " Seq('V'),\n",
              " Seq('WYWSYTECSL'),\n",
              " Seq('EPKIDCQPI'),\n",
              " Seq(''),\n",
              " Seq('CYWQNSRLTFFHSKCTWKTSRCGQPKCTSFKHAC'),\n",
              " Seq('TT'),\n",
              " Seq('LQFWCNFKCFK'),\n",
              " Seq('YPFTS'),\n",
              " Seq('QS'),\n",
              " Seq('G'),\n",
              " Seq('SAN'),\n",
              " Seq(''),\n",
              " Seq('VDHRQTSKFADICDSTIN'),\n",
              " Seq('SCRNQSFC'),\n",
              " Seq('SCCY'),\n",
              " Seq('NVRVCTWTIKKS'),\n",
              " Seq('FLWKGLSSYVLPSVSTSWCSLLACDLCPCTRKELHNCSCHLS'),\n",
              " Seq('WKSTLSS'),\n",
              " Seq('RCLCFKWHTLVCNTKEFL'),\n",
              " Seq('TTNHYYRQHICVW'),\n",
              " Seq('L'),\n",
              " Seq('CCNRNCQQHSL'),\n",
              " Seq('SFAT'),\n",
              " Seq('IRLIQGGVR'),\n",
              " Seq('IF'),\n",
              " Seq('ESYITRC'),\n",
              " Seq('FR'),\n",
              " Seq('HLWH'),\n",
              " Seq('CFSCKHSKRN'),\n",
              " Seq('PPQ'),\n",
              " Seq('GCQEFK'),\n",
              " Seq('ISHRSPRTWKV'),\n",
              " Seq('AVYKMAMVHLARFYSWLDCHSNGDNYALLYDQLL'),\n",
              " Seq('LSQGLLFLWILLQI'),\n",
              " Seq(''),\n",
              " Seq('RRL'),\n",
              " Seq('ASAQRSQITLHINELMDLFMRIFTIGTVTLKQGEIKDATPSDFVRATATIPIQA...VPL'),\n",
              " Seq('AQADEYELMYSFVSEETGTLIVNSVLLFLAFVVFLLVTLAILTALRLCAYCCNI...LLV'),\n",
              " Seq('TN'),\n",
              " Seq('ILY'),\n",
              " Seq('FFCLEL'),\n",
              " Seq('F'),\n",
              " Seq('PWQIPTVLLPLKSLKSSLNNGT'),\n",
              " Seq(''),\n",
              " Seq(''),\n",
              " Seq('VSYSLHGFVFYNLPMPTGIGFCI'),\n",
              " Seq('LS'),\n",
              " Seq('FSSGCYGQ'),\n",
              " Seq('L'),\n",
              " Seq('LVLCLLLFTE'),\n",
              " Seq('IGSPVELLSQWLVL'),\n",
              " Seq('A'),\n",
              " Seq('CGSATSLLLSDCLRVRVPCGHSIQKLTFFSTCHSMALF'),\n",
              " Seq('PDRF'),\n",
              " Seq('KVNS'),\n",
              " Seq('SEL'),\n",
              " Seq('SFVDIFVLLDTI'),\n",
              " Seq('DAVTSRTCLKKSLLLHHERFLITNWELRSV'),\n",
              " Seq('QVTQVLLHTVATGLATIN'),\n",
              " Seq('TQTIPVAVTILLCLYSK'),\n",
              " Seq('QQMFHLVDFQVTIAEILLIIMRTFKVSIWNLDYIINLIIKNLSKSLTENKYSQL...EID'),\n",
              " Seq('TNMKIILFLALITLATCELYHYQECVRGTTVLLKEPCSSGTYEGNSPFHPLADN...KTE'),\n",
              " Seq('LNFH'),\n",
              " Seq('LTSICAF'),\n",
              " Seq('PFCYSLF'),\n",
              " Seq('LCLLSFGSHLNCKIIMKLVTPKRT'),\n",
              " Seq('NFLFS'),\n",
              " Seq('ESSQL'),\n",
              " Seq('LHFTKNVVYSHVLNINHM'),\n",
              " Seq('LMTRVLFTSILNGILE'),\n",
              " Seq('ELENQHL'),\n",
              " Seq('LNCAWMRLVLNHPFSTSISVIIQFPVYLLQLIARNLNWVVL'),\n",
              " Seq('CVVRSMKTF'),\n",
              " Seq('SIMTFVLF'),\n",
              " Seq('ISSKRTN'),\n",
              " Seq('NV'),\n",
              " Seq(''),\n",
              " Seq('WTPKSAKCTPHYVWWTLRFNWQ'),\n",
              " Seq('PEWRTQWGAIKTTSAPRFTQ'),\n",
              " Seq('YCVLVHRSHSTWQGRP'),\n",
              " Seq('IPSRTRRSN'),\n",
              " Seq('HQ'),\n",
              " Seq('QSR'),\n",
              " Seq('PNWLLPKSYQTNSWW'),\n",
              " Seq('R'),\n",
              " Seq('NERSQSKMVFLLPRNWARSWTSLWC'),\n",
              " Seq('QRRHHMGCN'),\n",
              " Seq('GSLEYTKRSHWHPQSC'),\n",
              " Seq('QCCNRATTSSRNNIAKRLLRRREQRRQSSLFSFLIT'),\n",
              " Seq('SQQFKKFNSRQQ'),\n",
              " Seq('GNFSC'),\n",
              " Seq('NGWQWR'),\n",
              " Seq('CCSCFAAA'),\n",
              " Seq('QIEPA'),\n",
              " Seq('EQNVW'),\n",
              " Seq('RPTTTRPNCH'),\n",
              " Seq('EICC'),\n",
              " Seq('GF'),\n",
              " Seq('EASAKTYCH'),\n",
              " Seq('SIQCNTSFRQTWSRTNPRKFWGPGTNQTRN'),\n",
              " Seq('LQTLAANCTICPQRFSVLRNVAHWHGSHTFGNVVDLHRCHQIG'),\n",
              " Seq('QRSKFQRSSHFAE'),\n",
              " Seq('AY'),\n",
              " Seq('RIQNIPTNRA'),\n",
              " Seq('KGQKEEG'),\n",
              " Seq(''),\n",
              " Seq('NSSLTAETEETANCDSSSCCRFG'),\n",
              " Seq('FLQTIATIHEQC'),\n",
              " Seq('LNSGLNSCRPHKADGLYKRFRFSVYDI'),\n",
              " Seq('STLVQNEFS'),\n",
              " Seq('LHSTSRCS'),\n",
              " Seq('L'),\n",
              " Seq('SHIAIFNQCVTLGRT'),\n",
              " Seq('KSHHIFTEATRSTIECTVNNARESCLYGRALMCKINFSSAIPM'),\n",
              " Seq('F'),\n",
              " Seq(''),\n",
              " Seq('LLRRMTKKKKKKKKKK')]"
            ]
          },
          "metadata": {},
          "execution_count": 96
        }
      ]
    },
    {
      "cell_type": "markdown",
      "source": [
        "Read file using pandas"
      ],
      "metadata": {
        "id": "qIS7Dqvchw_s"
      }
    },
    {
      "cell_type": "code",
      "source": [
        "#import pandas\n",
        "import pandas as pd"
      ],
      "metadata": {
        "id": "chGTfCJ_hWFJ"
      },
      "execution_count": null,
      "outputs": []
    },
    {
      "cell_type": "code",
      "source": [
        "df=pd.DataFrame({\"amino_acids\":cov_protein_nostop})"
      ],
      "metadata": {
        "id": "qlklKhZ1h3kf"
      },
      "execution_count": null,
      "outputs": []
    },
    {
      "cell_type": "code",
      "source": [
        "df.head()"
      ],
      "metadata": {
        "colab": {
          "base_uri": "https://localhost:8080/",
          "height": 206
        },
        "id": "1AuWnevriOt-",
        "outputId": "9dfe71a8-61ca-4afe-b312-af30158ec721"
      },
      "execution_count": null,
      "outputs": [
        {
          "output_type": "execute_result",
          "data": {
            "text/html": [
              "\n",
              "  <div id=\"df-0a916102-46d0-4844-a4d3-dc3cde825868\">\n",
              "    <div class=\"colab-df-container\">\n",
              "      <div>\n",
              "<style scoped>\n",
              "    .dataframe tbody tr th:only-of-type {\n",
              "        vertical-align: middle;\n",
              "    }\n",
              "\n",
              "    .dataframe tbody tr th {\n",
              "        vertical-align: top;\n",
              "    }\n",
              "\n",
              "    .dataframe thead th {\n",
              "        text-align: right;\n",
              "    }\n",
              "</style>\n",
              "<table border=\"1\" class=\"dataframe\">\n",
              "  <thead>\n",
              "    <tr style=\"text-align: right;\">\n",
              "      <th></th>\n",
              "      <th>amino_acids</th>\n",
              "    </tr>\n",
              "  </thead>\n",
              "  <tbody>\n",
              "    <tr>\n",
              "      <th>0</th>\n",
              "      <td>(I, K, G, L, Y, L, P, R)</td>\n",
              "    </tr>\n",
              "    <tr>\n",
              "      <th>1</th>\n",
              "      <td>(Q, T, N, Q, L, S, I, S, C, R, S, V, L)</td>\n",
              "    </tr>\n",
              "    <tr>\n",
              "      <th>2</th>\n",
              "      <td>(T, N, F, K, I, C, V, A, V, T, R, L, H, A)</td>\n",
              "    </tr>\n",
              "    <tr>\n",
              "      <th>3</th>\n",
              "      <td>(C, T, H, A, V)</td>\n",
              "    </tr>\n",
              "    <tr>\n",
              "      <th>4</th>\n",
              "      <td>(L, I, T, N, Y, C, R)</td>\n",
              "    </tr>\n",
              "  </tbody>\n",
              "</table>\n",
              "</div>\n",
              "      <button class=\"colab-df-convert\" onclick=\"convertToInteractive('df-0a916102-46d0-4844-a4d3-dc3cde825868')\"\n",
              "              title=\"Convert this dataframe to an interactive table.\"\n",
              "              style=\"display:none;\">\n",
              "        \n",
              "  <svg xmlns=\"http://www.w3.org/2000/svg\" height=\"24px\"viewBox=\"0 0 24 24\"\n",
              "       width=\"24px\">\n",
              "    <path d=\"M0 0h24v24H0V0z\" fill=\"none\"/>\n",
              "    <path d=\"M18.56 5.44l.94 2.06.94-2.06 2.06-.94-2.06-.94-.94-2.06-.94 2.06-2.06.94zm-11 1L8.5 8.5l.94-2.06 2.06-.94-2.06-.94L8.5 2.5l-.94 2.06-2.06.94zm10 10l.94 2.06.94-2.06 2.06-.94-2.06-.94-.94-2.06-.94 2.06-2.06.94z\"/><path d=\"M17.41 7.96l-1.37-1.37c-.4-.4-.92-.59-1.43-.59-.52 0-1.04.2-1.43.59L10.3 9.45l-7.72 7.72c-.78.78-.78 2.05 0 2.83L4 21.41c.39.39.9.59 1.41.59.51 0 1.02-.2 1.41-.59l7.78-7.78 2.81-2.81c.8-.78.8-2.07 0-2.86zM5.41 20L4 18.59l7.72-7.72 1.47 1.35L5.41 20z\"/>\n",
              "  </svg>\n",
              "      </button>\n",
              "      \n",
              "  <style>\n",
              "    .colab-df-container {\n",
              "      display:flex;\n",
              "      flex-wrap:wrap;\n",
              "      gap: 12px;\n",
              "    }\n",
              "\n",
              "    .colab-df-convert {\n",
              "      background-color: #E8F0FE;\n",
              "      border: none;\n",
              "      border-radius: 50%;\n",
              "      cursor: pointer;\n",
              "      display: none;\n",
              "      fill: #1967D2;\n",
              "      height: 32px;\n",
              "      padding: 0 0 0 0;\n",
              "      width: 32px;\n",
              "    }\n",
              "\n",
              "    .colab-df-convert:hover {\n",
              "      background-color: #E2EBFA;\n",
              "      box-shadow: 0px 1px 2px rgba(60, 64, 67, 0.3), 0px 1px 3px 1px rgba(60, 64, 67, 0.15);\n",
              "      fill: #174EA6;\n",
              "    }\n",
              "\n",
              "    [theme=dark] .colab-df-convert {\n",
              "      background-color: #3B4455;\n",
              "      fill: #D2E3FC;\n",
              "    }\n",
              "\n",
              "    [theme=dark] .colab-df-convert:hover {\n",
              "      background-color: #434B5C;\n",
              "      box-shadow: 0px 1px 3px 1px rgba(0, 0, 0, 0.15);\n",
              "      filter: drop-shadow(0px 1px 2px rgba(0, 0, 0, 0.3));\n",
              "      fill: #FFFFFF;\n",
              "    }\n",
              "  </style>\n",
              "\n",
              "      <script>\n",
              "        const buttonEl =\n",
              "          document.querySelector('#df-0a916102-46d0-4844-a4d3-dc3cde825868 button.colab-df-convert');\n",
              "        buttonEl.style.display =\n",
              "          google.colab.kernel.accessAllowed ? 'block' : 'none';\n",
              "\n",
              "        async function convertToInteractive(key) {\n",
              "          const element = document.querySelector('#df-0a916102-46d0-4844-a4d3-dc3cde825868');\n",
              "          const dataTable =\n",
              "            await google.colab.kernel.invokeFunction('convertToInteractive',\n",
              "                                                     [key], {});\n",
              "          if (!dataTable) return;\n",
              "\n",
              "          const docLinkHtml = 'Like what you see? Visit the ' +\n",
              "            '<a target=\"_blank\" href=https://colab.research.google.com/notebooks/data_table.ipynb>data table notebook</a>'\n",
              "            + ' to learn more about interactive tables.';\n",
              "          element.innerHTML = '';\n",
              "          dataTable['output_type'] = 'display_data';\n",
              "          await google.colab.output.renderOutput(dataTable, element);\n",
              "          const docLink = document.createElement('div');\n",
              "          docLink.innerHTML = docLinkHtml;\n",
              "          element.appendChild(docLink);\n",
              "        }\n",
              "      </script>\n",
              "    </div>\n",
              "  </div>\n",
              "  "
            ],
            "text/plain": [
              "                                  amino_acids\n",
              "0                    (I, K, G, L, Y, L, P, R)\n",
              "1     (Q, T, N, Q, L, S, I, S, C, R, S, V, L)\n",
              "2  (T, N, F, K, I, C, V, A, V, T, R, L, H, A)\n",
              "3                             (C, T, H, A, V)\n",
              "4                       (L, I, T, N, Y, C, R)"
            ]
          },
          "metadata": {},
          "execution_count": 100
        }
      ]
    },
    {
      "cell_type": "code",
      "source": [
        "df['count']=df['amino_acids'].str.len()"
      ],
      "metadata": {
        "id": "NCDykH7ViR2q"
      },
      "execution_count": null,
      "outputs": []
    },
    {
      "cell_type": "code",
      "source": [
        "df.head()"
      ],
      "metadata": {
        "colab": {
          "base_uri": "https://localhost:8080/",
          "height": 206
        },
        "id": "BzESD-3MiiYX",
        "outputId": "bb61cfb7-48ec-4cb9-f360-af5993209cb7"
      },
      "execution_count": null,
      "outputs": [
        {
          "output_type": "execute_result",
          "data": {
            "text/html": [
              "\n",
              "  <div id=\"df-94f165cf-bfa0-4e6f-a50b-f26845b22304\">\n",
              "    <div class=\"colab-df-container\">\n",
              "      <div>\n",
              "<style scoped>\n",
              "    .dataframe tbody tr th:only-of-type {\n",
              "        vertical-align: middle;\n",
              "    }\n",
              "\n",
              "    .dataframe tbody tr th {\n",
              "        vertical-align: top;\n",
              "    }\n",
              "\n",
              "    .dataframe thead th {\n",
              "        text-align: right;\n",
              "    }\n",
              "</style>\n",
              "<table border=\"1\" class=\"dataframe\">\n",
              "  <thead>\n",
              "    <tr style=\"text-align: right;\">\n",
              "      <th></th>\n",
              "      <th>amino_acids</th>\n",
              "      <th>count</th>\n",
              "    </tr>\n",
              "  </thead>\n",
              "  <tbody>\n",
              "    <tr>\n",
              "      <th>0</th>\n",
              "      <td>(I, K, G, L, Y, L, P, R)</td>\n",
              "      <td>8</td>\n",
              "    </tr>\n",
              "    <tr>\n",
              "      <th>1</th>\n",
              "      <td>(Q, T, N, Q, L, S, I, S, C, R, S, V, L)</td>\n",
              "      <td>13</td>\n",
              "    </tr>\n",
              "    <tr>\n",
              "      <th>2</th>\n",
              "      <td>(T, N, F, K, I, C, V, A, V, T, R, L, H, A)</td>\n",
              "      <td>14</td>\n",
              "    </tr>\n",
              "    <tr>\n",
              "      <th>3</th>\n",
              "      <td>(C, T, H, A, V)</td>\n",
              "      <td>5</td>\n",
              "    </tr>\n",
              "    <tr>\n",
              "      <th>4</th>\n",
              "      <td>(L, I, T, N, Y, C, R)</td>\n",
              "      <td>7</td>\n",
              "    </tr>\n",
              "  </tbody>\n",
              "</table>\n",
              "</div>\n",
              "      <button class=\"colab-df-convert\" onclick=\"convertToInteractive('df-94f165cf-bfa0-4e6f-a50b-f26845b22304')\"\n",
              "              title=\"Convert this dataframe to an interactive table.\"\n",
              "              style=\"display:none;\">\n",
              "        \n",
              "  <svg xmlns=\"http://www.w3.org/2000/svg\" height=\"24px\"viewBox=\"0 0 24 24\"\n",
              "       width=\"24px\">\n",
              "    <path d=\"M0 0h24v24H0V0z\" fill=\"none\"/>\n",
              "    <path d=\"M18.56 5.44l.94 2.06.94-2.06 2.06-.94-2.06-.94-.94-2.06-.94 2.06-2.06.94zm-11 1L8.5 8.5l.94-2.06 2.06-.94-2.06-.94L8.5 2.5l-.94 2.06-2.06.94zm10 10l.94 2.06.94-2.06 2.06-.94-2.06-.94-.94-2.06-.94 2.06-2.06.94z\"/><path d=\"M17.41 7.96l-1.37-1.37c-.4-.4-.92-.59-1.43-.59-.52 0-1.04.2-1.43.59L10.3 9.45l-7.72 7.72c-.78.78-.78 2.05 0 2.83L4 21.41c.39.39.9.59 1.41.59.51 0 1.02-.2 1.41-.59l7.78-7.78 2.81-2.81c.8-.78.8-2.07 0-2.86zM5.41 20L4 18.59l7.72-7.72 1.47 1.35L5.41 20z\"/>\n",
              "  </svg>\n",
              "      </button>\n",
              "      \n",
              "  <style>\n",
              "    .colab-df-container {\n",
              "      display:flex;\n",
              "      flex-wrap:wrap;\n",
              "      gap: 12px;\n",
              "    }\n",
              "\n",
              "    .colab-df-convert {\n",
              "      background-color: #E8F0FE;\n",
              "      border: none;\n",
              "      border-radius: 50%;\n",
              "      cursor: pointer;\n",
              "      display: none;\n",
              "      fill: #1967D2;\n",
              "      height: 32px;\n",
              "      padding: 0 0 0 0;\n",
              "      width: 32px;\n",
              "    }\n",
              "\n",
              "    .colab-df-convert:hover {\n",
              "      background-color: #E2EBFA;\n",
              "      box-shadow: 0px 1px 2px rgba(60, 64, 67, 0.3), 0px 1px 3px 1px rgba(60, 64, 67, 0.15);\n",
              "      fill: #174EA6;\n",
              "    }\n",
              "\n",
              "    [theme=dark] .colab-df-convert {\n",
              "      background-color: #3B4455;\n",
              "      fill: #D2E3FC;\n",
              "    }\n",
              "\n",
              "    [theme=dark] .colab-df-convert:hover {\n",
              "      background-color: #434B5C;\n",
              "      box-shadow: 0px 1px 3px 1px rgba(0, 0, 0, 0.15);\n",
              "      filter: drop-shadow(0px 1px 2px rgba(0, 0, 0, 0.3));\n",
              "      fill: #FFFFFF;\n",
              "    }\n",
              "  </style>\n",
              "\n",
              "      <script>\n",
              "        const buttonEl =\n",
              "          document.querySelector('#df-94f165cf-bfa0-4e6f-a50b-f26845b22304 button.colab-df-convert');\n",
              "        buttonEl.style.display =\n",
              "          google.colab.kernel.accessAllowed ? 'block' : 'none';\n",
              "\n",
              "        async function convertToInteractive(key) {\n",
              "          const element = document.querySelector('#df-94f165cf-bfa0-4e6f-a50b-f26845b22304');\n",
              "          const dataTable =\n",
              "            await google.colab.kernel.invokeFunction('convertToInteractive',\n",
              "                                                     [key], {});\n",
              "          if (!dataTable) return;\n",
              "\n",
              "          const docLinkHtml = 'Like what you see? Visit the ' +\n",
              "            '<a target=\"_blank\" href=https://colab.research.google.com/notebooks/data_table.ipynb>data table notebook</a>'\n",
              "            + ' to learn more about interactive tables.';\n",
              "          element.innerHTML = '';\n",
              "          dataTable['output_type'] = 'display_data';\n",
              "          await google.colab.output.renderOutput(dataTable, element);\n",
              "          const docLink = document.createElement('div');\n",
              "          docLink.innerHTML = docLinkHtml;\n",
              "          element.appendChild(docLink);\n",
              "        }\n",
              "      </script>\n",
              "    </div>\n",
              "  </div>\n",
              "  "
            ],
            "text/plain": [
              "                                  amino_acids  count\n",
              "0                    (I, K, G, L, Y, L, P, R)      8\n",
              "1     (Q, T, N, Q, L, S, I, S, C, R, S, V, L)     13\n",
              "2  (T, N, F, K, I, C, V, A, V, T, R, L, H, A)     14\n",
              "3                             (C, T, H, A, V)      5\n",
              "4                       (L, I, T, N, Y, C, R)      7"
            ]
          },
          "metadata": {},
          "execution_count": 102
        }
      ]
    },
    {
      "cell_type": "code",
      "source": [
        "# Find largest sequences\n",
        "df.nlargest(10, \"count\")"
      ],
      "metadata": {
        "colab": {
          "base_uri": "https://localhost:8080/",
          "height": 363
        },
        "id": "l7t62WRKikNl",
        "outputId": "45b1d7cb-df10-439a-f7a1-628baa944ec7"
      },
      "execution_count": null,
      "outputs": [
        {
          "output_type": "execute_result",
          "data": {
            "text/html": [
              "\n",
              "  <div id=\"df-c54d4789-3550-4eb3-8bc4-1874f2312699\">\n",
              "    <div class=\"colab-df-container\">\n",
              "      <div>\n",
              "<style scoped>\n",
              "    .dataframe tbody tr th:only-of-type {\n",
              "        vertical-align: middle;\n",
              "    }\n",
              "\n",
              "    .dataframe tbody tr th {\n",
              "        vertical-align: top;\n",
              "    }\n",
              "\n",
              "    .dataframe thead th {\n",
              "        text-align: right;\n",
              "    }\n",
              "</style>\n",
              "<table border=\"1\" class=\"dataframe\">\n",
              "  <thead>\n",
              "    <tr style=\"text-align: right;\">\n",
              "      <th></th>\n",
              "      <th>amino_acids</th>\n",
              "      <th>count</th>\n",
              "    </tr>\n",
              "  </thead>\n",
              "  <tbody>\n",
              "    <tr>\n",
              "      <th>548</th>\n",
              "      <td>(C, T, I, V, F, K, R, V, C, G, V, S, A, A, R, ...</td>\n",
              "      <td>2701</td>\n",
              "    </tr>\n",
              "    <tr>\n",
              "      <th>694</th>\n",
              "      <td>(A, S, A, Q, R, S, Q, I, T, L, H, I, N, E, L, ...</td>\n",
              "      <td>290</td>\n",
              "    </tr>\n",
              "    <tr>\n",
              "      <th>719</th>\n",
              "      <td>(T, N, M, K, I, I, L, F, L, A, L, I, T, L, A, ...</td>\n",
              "      <td>123</td>\n",
              "    </tr>\n",
              "    <tr>\n",
              "      <th>695</th>\n",
              "      <td>(A, Q, A, D, E, Y, E, L, M, Y, S, F, V, S, E, ...</td>\n",
              "      <td>83</td>\n",
              "    </tr>\n",
              "    <tr>\n",
              "      <th>718</th>\n",
              "      <td>(Q, Q, M, F, H, L, V, D, F, Q, V, T, I, A, E, ...</td>\n",
              "      <td>63</td>\n",
              "    </tr>\n",
              "    <tr>\n",
              "      <th>6</th>\n",
              "      <td>(D, G, E, P, C, P, W, F, Q, R, E, N, T, R, P, ...</td>\n",
              "      <td>46</td>\n",
              "    </tr>\n",
              "    <tr>\n",
              "      <th>464</th>\n",
              "      <td>(T, M, L, R, C, Y, F, P, K, C, S, E, K, N, N, ...</td>\n",
              "      <td>46</td>\n",
              "    </tr>\n",
              "    <tr>\n",
              "      <th>539</th>\n",
              "      <td>(D, V, V, Y, T, H, W, Y, W, S, G, N, N, S, Y, ...</td>\n",
              "      <td>43</td>\n",
              "    </tr>\n",
              "    <tr>\n",
              "      <th>758</th>\n",
              "      <td>(L, Q, T, L, A, A, N, C, T, I, C, P, Q, R, F, ...</td>\n",
              "      <td>43</td>\n",
              "    </tr>\n",
              "    <tr>\n",
              "      <th>771</th>\n",
              "      <td>(K, S, H, H, I, F, T, E, A, T, R, S, T, I, E, ...</td>\n",
              "      <td>43</td>\n",
              "    </tr>\n",
              "  </tbody>\n",
              "</table>\n",
              "</div>\n",
              "      <button class=\"colab-df-convert\" onclick=\"convertToInteractive('df-c54d4789-3550-4eb3-8bc4-1874f2312699')\"\n",
              "              title=\"Convert this dataframe to an interactive table.\"\n",
              "              style=\"display:none;\">\n",
              "        \n",
              "  <svg xmlns=\"http://www.w3.org/2000/svg\" height=\"24px\"viewBox=\"0 0 24 24\"\n",
              "       width=\"24px\">\n",
              "    <path d=\"M0 0h24v24H0V0z\" fill=\"none\"/>\n",
              "    <path d=\"M18.56 5.44l.94 2.06.94-2.06 2.06-.94-2.06-.94-.94-2.06-.94 2.06-2.06.94zm-11 1L8.5 8.5l.94-2.06 2.06-.94-2.06-.94L8.5 2.5l-.94 2.06-2.06.94zm10 10l.94 2.06.94-2.06 2.06-.94-2.06-.94-.94-2.06-.94 2.06-2.06.94z\"/><path d=\"M17.41 7.96l-1.37-1.37c-.4-.4-.92-.59-1.43-.59-.52 0-1.04.2-1.43.59L10.3 9.45l-7.72 7.72c-.78.78-.78 2.05 0 2.83L4 21.41c.39.39.9.59 1.41.59.51 0 1.02-.2 1.41-.59l7.78-7.78 2.81-2.81c.8-.78.8-2.07 0-2.86zM5.41 20L4 18.59l7.72-7.72 1.47 1.35L5.41 20z\"/>\n",
              "  </svg>\n",
              "      </button>\n",
              "      \n",
              "  <style>\n",
              "    .colab-df-container {\n",
              "      display:flex;\n",
              "      flex-wrap:wrap;\n",
              "      gap: 12px;\n",
              "    }\n",
              "\n",
              "    .colab-df-convert {\n",
              "      background-color: #E8F0FE;\n",
              "      border: none;\n",
              "      border-radius: 50%;\n",
              "      cursor: pointer;\n",
              "      display: none;\n",
              "      fill: #1967D2;\n",
              "      height: 32px;\n",
              "      padding: 0 0 0 0;\n",
              "      width: 32px;\n",
              "    }\n",
              "\n",
              "    .colab-df-convert:hover {\n",
              "      background-color: #E2EBFA;\n",
              "      box-shadow: 0px 1px 2px rgba(60, 64, 67, 0.3), 0px 1px 3px 1px rgba(60, 64, 67, 0.15);\n",
              "      fill: #174EA6;\n",
              "    }\n",
              "\n",
              "    [theme=dark] .colab-df-convert {\n",
              "      background-color: #3B4455;\n",
              "      fill: #D2E3FC;\n",
              "    }\n",
              "\n",
              "    [theme=dark] .colab-df-convert:hover {\n",
              "      background-color: #434B5C;\n",
              "      box-shadow: 0px 1px 3px 1px rgba(0, 0, 0, 0.15);\n",
              "      filter: drop-shadow(0px 1px 2px rgba(0, 0, 0, 0.3));\n",
              "      fill: #FFFFFF;\n",
              "    }\n",
              "  </style>\n",
              "\n",
              "      <script>\n",
              "        const buttonEl =\n",
              "          document.querySelector('#df-c54d4789-3550-4eb3-8bc4-1874f2312699 button.colab-df-convert');\n",
              "        buttonEl.style.display =\n",
              "          google.colab.kernel.accessAllowed ? 'block' : 'none';\n",
              "\n",
              "        async function convertToInteractive(key) {\n",
              "          const element = document.querySelector('#df-c54d4789-3550-4eb3-8bc4-1874f2312699');\n",
              "          const dataTable =\n",
              "            await google.colab.kernel.invokeFunction('convertToInteractive',\n",
              "                                                     [key], {});\n",
              "          if (!dataTable) return;\n",
              "\n",
              "          const docLinkHtml = 'Like what you see? Visit the ' +\n",
              "            '<a target=\"_blank\" href=https://colab.research.google.com/notebooks/data_table.ipynb>data table notebook</a>'\n",
              "            + ' to learn more about interactive tables.';\n",
              "          element.innerHTML = '';\n",
              "          dataTable['output_type'] = 'display_data';\n",
              "          await google.colab.output.renderOutput(dataTable, element);\n",
              "          const docLink = document.createElement('div');\n",
              "          docLink.innerHTML = docLinkHtml;\n",
              "          element.appendChild(docLink);\n",
              "        }\n",
              "      </script>\n",
              "    </div>\n",
              "  </div>\n",
              "  "
            ],
            "text/plain": [
              "                                           amino_acids  count\n",
              "548  (C, T, I, V, F, K, R, V, C, G, V, S, A, A, R, ...   2701\n",
              "694  (A, S, A, Q, R, S, Q, I, T, L, H, I, N, E, L, ...    290\n",
              "719  (T, N, M, K, I, I, L, F, L, A, L, I, T, L, A, ...    123\n",
              "695  (A, Q, A, D, E, Y, E, L, M, Y, S, F, V, S, E, ...     83\n",
              "718  (Q, Q, M, F, H, L, V, D, F, Q, V, T, I, A, E, ...     63\n",
              "6    (D, G, E, P, C, P, W, F, Q, R, E, N, T, R, P, ...     46\n",
              "464  (T, M, L, R, C, Y, F, P, K, C, S, E, K, N, N, ...     46\n",
              "539  (D, V, V, Y, T, H, W, Y, W, S, G, N, N, S, Y, ...     43\n",
              "758  (L, Q, T, L, A, A, N, C, T, I, C, P, Q, R, F, ...     43\n",
              "771  (K, S, H, H, I, F, T, E, A, T, R, S, T, I, E, ...     43"
            ]
          },
          "metadata": {},
          "execution_count": 139
        }
      ]
    },
    {
      "cell_type": "code",
      "source": [
        ""
      ],
      "metadata": {
        "id": "ZiEQMuzssRR3"
      },
      "execution_count": null,
      "outputs": []
    },
    {
      "cell_type": "markdown",
      "source": [
        "Show largest protein sequences from Sars-cov2 genome"
      ],
      "metadata": {
        "id": "_QHjWduNsW_6"
      }
    },
    {
      "cell_type": "code",
      "source": [
        ""
      ],
      "metadata": {
        "id": "jKULGnXHseQO"
      },
      "execution_count": null,
      "outputs": []
    }
  ]
}